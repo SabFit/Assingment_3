{
 "cells": [
  {
   "cell_type": "markdown",
   "id": "8404561a-d40c-4d52-8378-051f60c6c4de",
   "metadata": {},
   "source": [
    "1.\tWhy are functions advantageous to have in your programs?\n"
   ]
  },
  {
   "cell_type": "markdown",
   "id": "def03e04-2ae6-4bb1-8ae5-3951b720b13d",
   "metadata": {},
   "source": [
    "ANS . functions are written when ever code can be reutilised , divide complete set of code into modules . makes the program more readable"
   ]
  },
  {
   "cell_type": "markdown",
   "id": "94b09407-4a46-411d-91d3-2dbeb9c250a5",
   "metadata": {},
   "source": [
    "2. When does the code in a function run: when it's specified or when it's called? \n",
    "\n"
   ]
  },
  {
   "cell_type": "markdown",
   "id": "17ca5a9e-cadb-42e1-b2a2-9292b94fa9b9",
   "metadata": {},
   "source": [
    "Ans .  when its called . "
   ]
  },
  {
   "cell_type": "markdown",
   "id": "be72081b-4f73-4b01-900d-08773ca588c0",
   "metadata": {},
   "source": [
    "3.What statement creates a function? "
   ]
  },
  {
   "cell_type": "markdown",
   "id": "6d222fc3-ad27-4d98-9ed1-3805822a6219",
   "metadata": {},
   "source": [
    "def creates a function "
   ]
  },
  {
   "cell_type": "markdown",
   "id": "8a5a53bc-4d28-49e6-87eb-794eb7777305",
   "metadata": {},
   "source": [
    "4. What is the difference between a function and a function call?"
   ]
  },
  {
   "cell_type": "markdown",
   "id": "d616de0f-06d9-47f2-903d-b08ac4af3fd7",
   "metadata": {},
   "source": [
    "function is jsut a piece of code sits and do nothing .\n",
    "fucniton call is when we tell the interpreter to run the code in your function. "
   ]
  },
  {
   "cell_type": "markdown",
   "id": "9c7b7ca6-f1e1-463c-b7f0-8e33584bba95",
   "metadata": {},
   "source": [
    "5. How many global scopes are there in a Python program? How many local scopes?"
   ]
  },
  {
   "cell_type": "markdown",
   "id": "de171975-90b9-4107-88b2-de608f2532e2",
   "metadata": {},
   "source": [
    "Ans there is one global scope , local scope is created when ever function is called ."
   ]
  },
  {
   "cell_type": "markdown",
   "id": "160e74ed-ae8d-423c-a4a9-0b73270efdfd",
   "metadata": {},
   "source": [
    "6.What happens to variables in a local scope when the function call returns?"
   ]
  },
  {
   "cell_type": "markdown",
   "id": "4e42b394-2ebc-4ca5-91c0-1c46e21dc146",
   "metadata": {},
   "source": [
    "Ans When a function returns, the local scope is destroyed, and all the variables in it are forgotten."
   ]
  },
  {
   "cell_type": "markdown",
   "id": "52da37ab-24d9-43c5-ba99-62966329702e",
   "metadata": {},
   "source": [
    "7.What is the concept of a return value? Is it possible to have a return value in an expression?"
   ]
  },
  {
   "cell_type": "markdown",
   "id": "616b2d98-6289-4b12-bc0e-231107514f4d",
   "metadata": {},
   "source": [
    "Ans \n",
    "\n",
    "\n",
    "A return value is the value that a function call evaluates to. Like any value, a return value can be used as part of an expression"
   ]
  },
  {
   "cell_type": "markdown",
   "id": "8efbaab9-1ea3-47d0-a9b3-f879304df19e",
   "metadata": {},
   "source": [
    "8. If a function does not have a return statement, what is the return value of a call to that function?"
   ]
  },
  {
   "cell_type": "markdown",
   "id": "37ffe43c-7649-40f2-837a-bf815a6bf114",
   "metadata": {},
   "source": [
    "Ans Null Value or None"
   ]
  },
  {
   "cell_type": "markdown",
   "id": "cceff2eb-e8e8-4b18-836b-7882365addae",
   "metadata": {},
   "source": [
    "9. How do you make a function variable refer to the global variable?"
   ]
  },
  {
   "cell_type": "markdown",
   "id": "b83877ac-0fcc-4cb4-9eda-00fea2c9e254",
   "metadata": {},
   "source": [
    "Ans Using global keyword "
   ]
  },
  {
   "cell_type": "markdown",
   "id": "a8fee1f9-7025-4351-a3f9-609a3e95369c",
   "metadata": {},
   "source": [
    "10. What is the data type of None?"
   ]
  },
  {
   "cell_type": "markdown",
   "id": "4d3493c0-7ef6-42a0-857e-f9683d6b7eb9",
   "metadata": {},
   "source": [
    "Print function is always used to return  NoneType . it used to store the results of Print Function .\n",
    "NoneType  may be  another null data type or another kind of data type in python "
   ]
  },
  {
   "cell_type": "markdown",
   "id": "f54c9372-85da-40fd-93d4-087e2af55480",
   "metadata": {},
   "source": [
    "11. What does the sentence import areallyourpetsnamederic do?"
   ]
  },
  {
   "cell_type": "markdown",
   "id": "dcbd09fb-a388-463a-bdbf-39c77cb66e25",
   "metadata": {},
   "source": [
    "Ans imports a module named areallyourpetsnamederic. "
   ]
  },
  {
   "cell_type": "markdown",
   "id": "2bb591d1-72b6-48fd-9f61-f8f4fe22cdfe",
   "metadata": {},
   "source": [
    "12. If you had a bacon() feature in a spam module, what would you call it after importing spam?"
   ]
  },
  {
   "cell_type": "markdown",
   "id": "35dac331-2acb-4ec4-9e2c-5e5d3645aaf0",
   "metadata": {},
   "source": [
    "Ans spam.bacon()"
   ]
  },
  {
   "cell_type": "markdown",
   "id": "213c2fb5-afe9-429c-a55a-eea0281cb53e",
   "metadata": {},
   "source": [
    "13. What can you do to save a programme from crashing if it encounters an error?"
   ]
  },
  {
   "cell_type": "markdown",
   "id": "f6957709-6138-408c-841c-aeee27049002",
   "metadata": {},
   "source": [
    "Ans is      Error handling can be used to notify the user of why the error occurred and gracefully exit the process that caused the error."
   ]
  },
  {
   "cell_type": "markdown",
   "id": "fcf1ed8d-563c-4ce3-9628-c5df3463e44b",
   "metadata": {},
   "source": [
    "14. What is the purpose of the try clause? What is the purpose of the except clause?"
   ]
  },
  {
   "cell_type": "markdown",
   "id": "3f2f72b9-e7a8-418e-bcc0-ff2ea50c352b",
   "metadata": {},
   "source": [
    "purpose of try clause is to test the block of codes for errors and purpose of except clause is to handle the errors \n",
    "\n"
   ]
  }
 ],
 "metadata": {
  "kernelspec": {
   "display_name": "Python 3 (ipykernel)",
   "language": "python",
   "name": "python3"
  },
  "language_info": {
   "codemirror_mode": {
    "name": "ipython",
    "version": 3
   },
   "file_extension": ".py",
   "mimetype": "text/x-python",
   "name": "python",
   "nbconvert_exporter": "python",
   "pygments_lexer": "ipython3",
   "version": "3.10.6"
  }
 },
 "nbformat": 4,
 "nbformat_minor": 5
}
